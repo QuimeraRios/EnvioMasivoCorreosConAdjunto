{
 "cells": [
  {
   "cell_type": "markdown",
   "metadata": {},
   "source": [
    "Se requiere enviar los pdfs generados indivindualmente a unas casillas de correo elctrónico para cada persona. \n",
    "El pdf es distinto para cada persona y el correo es diferente, se debe adjuntar el archivo de acuerdo a una ruta establecida donde estaran los archivos.\n",
    "En un archivo en Excel se tiene la información de los pdfs y correos electrónicos.\n",
    "\n",
    "Proceso\n",
    "Primero, obtiene el nombre del archivo PDF que se enviará. \n",
    "Luego, crea un objeto de aplicación de Outlook y crea un nuevo elemento de correo. \n",
    "A continuación, asigna el destinatario, el asunto y el cuerpo del correo. \n",
    "Finalmente, adjunta el archivo PDF y envía el correo."
   ]
  },
  {
   "cell_type": "markdown",
   "metadata": {},
   "source": [
    "Este código Primero, abre el archivo Excel y obtiene los datos de las columnas Correo, RutaArchivoAdjuntar, Asunto_del_correo y Cuerpo_del_correo. Luego, crea un objeto de aplicación de Outlook y crea un nuevo elemento de correo para cada registro. A continuación, asigna el destinatario, el asunto, el cuerpo del correo y el archivo PDF adjunto. Finalmente, envía el correo."
   ]
  },
  {
   "cell_type": "code",
   "execution_count": 15,
   "metadata": {},
   "outputs": [],
   "source": [
    "import pandas as pd\n",
    "import smtplib\n",
    "from email.mime.multipart import MIMEMultipart\n",
    "from email.mime.text import MIMEText\n",
    "from email.mime.application import MIMEApplication\n",
    "\n",
    "def enviar_email():\n",
    "    # Leer el archivo Excel\n",
    "    ruta_archivo_excel = r'E:\\Aplicaciones\\Bills\\Cuentas\\base_datos_artistas.xlsx'\n",
    "    df = pd.read_excel(ruta_archivo_excel, sheet_name='datos')\n",
    "    \n",
    "    # Configurar las credenciales del correo saliente (SMTP)\n",
    "    smtp_server = 'smtp-mail.outlook.com'\n",
    "    puerto = 587\n",
    "    usuario = 'vhrios@hotmail.com'\n",
    "    contrasena = 'amor'\n",
    "    remitente = 'vhrios@hotmail.com'\n",
    "\n",
    "    # Establecer conexión con el servidor SMTP\n",
    "    servidor = smtplib.SMTP(smtp_server, puerto)\n",
    "    servidor.starttls()\n",
    "    servidor.login(usuario, contrasena)\n",
    "    \n",
    "    # Recorrer los registros del archivo Excel y enviar correos electrónicos\n",
    "    for index, row in df.iterrows():\n",
    "        nCuenta_cobro = str(row['nCuenta_cobro'])\n",
    "        nombre_del_artista = row['nombre_del_artista']\n",
    "        correo = row['correo']\n",
    "        asunto_del_correo = row['Asunto_del_correo']\n",
    "        cuerpo_del_correo = row['Cuerpo_del_correo']\n",
    "        ruta_archivo_pdf = fr'E:\\Aplicaciones\\Bills\\Cuentas\\{nCuenta_cobro}-{nombre_del_artista}-cuenta.pdf'\n",
    "\n",
    "        # Crear el mensaje\n",
    "        mensaje = MIMEMultipart()\n",
    "        mensaje['From'] = remitente\n",
    "        mensaje['To'] = correo\n",
    "        mensaje['Subject'] = asunto_del_correo\n",
    "\n",
    "        cuerpo_mensaje = f'{cuerpo_del_correo}\\n\\nAdjunto se encuentra la cuenta de cobro {nCuenta_cobro}.'\n",
    "        mensaje.attach(MIMEText(cuerpo_mensaje, 'plain'))\n",
    "        \n",
    "        # Antes de abrir el archivo, imprime la ruta para depurar\n",
    "    #print(\"Ruta del archivo PDF:\", ruta_archivo_pdf)\n",
    "\n",
    "# Intenta abrir el archivo PDF y adjuntarlo al mensaje\n",
    "#with open(ruta_archivo_pdf, 'rb') as adjunto:\n",
    "\n",
    "    # Resto del código para adjuntar el archivo al mensaje\n",
    "\n",
    "        # Adjuntar el archivo PDF\n",
    "        with open(ruta_archivo_pdf, 'rb') as adjunto:\n",
    "            part = MIMEApplication(adjunto.read(), Name=nCuenta_cobro)\n",
    "            part['Content-Disposition'] = f'attachment; filename=\"{nCuenta_cobro}.pdf\"'\n",
    "            mensaje.attach(part)\n",
    "\n",
    "        # Enviar el correo electrónico\n",
    "        servidor.sendmail(remitente, correo, mensaje.as_string())\n",
    "\n",
    "    # Cerrar la conexión con el servidor SMTP\n",
    "    servidor.quit()\n",
    "\n",
    "# Llamar a la función para enviar los correos electrónicos\n",
    "enviar_email()\n"
   ]
  }
 ],
 "metadata": {
  "kernelspec": {
   "display_name": "Python 3",
   "language": "python",
   "name": "python3"
  },
  "language_info": {
   "codemirror_mode": {
    "name": "ipython",
    "version": 3
   },
   "file_extension": ".py",
   "mimetype": "text/x-python",
   "name": "python",
   "nbconvert_exporter": "python",
   "pygments_lexer": "ipython3",
   "version": "3.9.7"
  },
  "orig_nbformat": 4
 },
 "nbformat": 4,
 "nbformat_minor": 2
}
